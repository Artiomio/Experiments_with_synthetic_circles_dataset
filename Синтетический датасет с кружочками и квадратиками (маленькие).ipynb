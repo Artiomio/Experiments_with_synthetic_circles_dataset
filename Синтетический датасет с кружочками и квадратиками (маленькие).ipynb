{
 "cells": [
  {
   "cell_type": "code",
   "execution_count": 13,
   "metadata": {},
   "outputs": [
    {
     "data": {
      "text/plain": [
       "3"
      ]
     },
     "execution_count": 13,
     "metadata": {},
     "output_type": "execute_result"
    }
   ],
   "source": [
    "3"
   ]
  },
  {
   "cell_type": "code",
   "execution_count": null,
   "metadata": {
    "ExecuteTime": {
     "end_time": "2019-09-22T03:59:09.484614Z",
     "start_time": "2019-09-22T03:59:08.895714Z"
    }
   },
   "outputs": [],
   "source": [
    "import os\n",
    "import random\n",
    "import time\n",
    "\n",
    "import cv2\n",
    "import matplotlib.pyplot as plt\n",
    "import numpy as np"
   ]
  },
  {
   "cell_type": "code",
   "execution_count": null,
   "metadata": {},
   "outputs": [
    {
     "data": {
      "text/plain": [
       "3"
      ]
     },
     "execution_count": 15,
     "metadata": {},
     "output_type": "execute_result"
    }
   ],
   "source": [
    "erre=333\n",
    "3"
   ]
  },
  {
   "cell_type": "markdown",
   "metadata": {},
   "source": [
    "## Заполняем "
   ]
  },
  {
   "cell_type": "code",
   "execution_count": null,
   "metadata": {
    "ExecuteTime": {
     "end_time": "2019-09-22T03:59:10.353619Z",
     "start_time": "2019-09-22T03:59:10.114477Z"
    }
   },
   "outputs": [],
   "source": [
    "def get_circles_and_rectangles_dataset(\n",
    "        width=100,\n",
    "        height=100,\n",
    "        N = 10000,\n",
    "        blur_kernel=(13, 13),\n",
    "        blurring_sigma=1,\n",
    "        blurring_degree=3,\n",
    "        noise=0.1,\n",
    "        R=40):\n",
    "\n",
    "    circles    = np.zeros((N, height, width, 3), dtype=\"uint8\")\n",
    "    rectangles = np.zeros((N, height, width, 3), dtype=\"uint8\")\n",
    "\n",
    "    for i in range(N):\n",
    "        x = random.randint(R // 2, width - R // 2 ) \n",
    "        y = random.randint(R // 2, height - R // 2)\n",
    "        cv2.circle(circles[i], (x, y), R + np.random.randint(-R // 1.2, R // 1.2), (np.random.randint(10, 256), np.random.randint(10, 256), np.random.randint(10, 256)), -1)\n",
    "        circles[i] = cv2.GaussianBlur(circles[i], blur_kernel, blurring_sigma, blurring_degree)\n",
    "        \n",
    "        x = random.randint(-R // 2, width - R // 2)\n",
    "        y = random.randint(-R // 2, height - R // 2)\n",
    "\n",
    "        cv2.rectangle(rectangles[i], (x + (d := np.random.randint(-R  // 1.2, R // 1.2)), y + d),  (x + 2*R + (d := np.random.randint(-R  // 1.2, R // 1.2)), y + 2*R + d), (np.random.randint(10, 256), np.random.randint(10, 256), np.random.randint(10, 256)), -1)\n",
    "        rectangles[i] = cv2.GaussianBlur(rectangles[i], blur_kernel, blurring_sigma , blurring_degree)\n",
    "\n",
    "    X = np.concatenate([circles, rectangles])\n",
    "    for i in range(len(X)):\n",
    "\n",
    "        \n",
    "        X[i] = X[i] + noise * np.random.random(size=X.shape)\n",
    "\n",
    "    Y = np.zeros(shape=(2*N))\n",
    "    Y[:N] = 0\n",
    "    Y[N:] = 1\n",
    "    X = X / 255.0\n",
    "\n",
    "    return X, Y        "
   ]
  },
  {
   "cell_type": "code",
   "execution_count": 19,
   "metadata": {
    "ExecuteTime": {
     "end_time": "2019-09-22T03:26:17.383948Z",
     "start_time": "2019-09-22T03:26:17.111050Z"
    }
   },
   "outputs": [
    {
     "ename": "ValueError",
     "evalue": "could not broadcast input array from shape (20000,100,100,3) into shape (100,100,3)",
     "output_type": "error",
     "traceback": [
      "\u001b[0;31m---------------------------------------------------------------------------\u001b[0m",
      "\u001b[0;31mValueError\u001b[0m                                Traceback (most recent call last)",
      "Cell \u001b[0;32mIn [19], line 2\u001b[0m\n\u001b[1;32m      1\u001b[0m WIDTH, HEIGHT \u001b[39m=\u001b[39m \u001b[39m100\u001b[39m, \u001b[39m100\u001b[39m\n\u001b[0;32m----> 2\u001b[0m X, Y \u001b[39m=\u001b[39m get_circles_and_rectangles_dataset(width\u001b[39m=\u001b[39;49mWIDTH, height\u001b[39m=\u001b[39;49mHEIGHT)\n\u001b[1;32m      3\u001b[0m X\u001b[39m.\u001b[39mshape\n\u001b[1;32m      4\u001b[0m \u001b[39m2\u001b[39m\n",
      "Cell \u001b[0;32mIn [16], line 30\u001b[0m, in \u001b[0;36mget_circles_and_rectangles_dataset\u001b[0;34m(width, height, N, blur_kernel, blurring_sigma, blurring_degree, noise, R)\u001b[0m\n\u001b[1;32m     26\u001b[0m X \u001b[39m=\u001b[39m np\u001b[39m.\u001b[39mconcatenate([circles, rectangles])\n\u001b[1;32m     27\u001b[0m \u001b[39mfor\u001b[39;00m i \u001b[39min\u001b[39;00m \u001b[39mrange\u001b[39m(\u001b[39mlen\u001b[39m(X)):\n\u001b[0;32m---> 30\u001b[0m     X[i] \u001b[39m=\u001b[39m X[i] \u001b[39m+\u001b[39m noise \u001b[39m*\u001b[39m np\u001b[39m.\u001b[39mrandom\u001b[39m.\u001b[39mrandom(size\u001b[39m=\u001b[39mX\u001b[39m.\u001b[39mshape)\n\u001b[1;32m     32\u001b[0m Y \u001b[39m=\u001b[39m np\u001b[39m.\u001b[39mzeros(shape\u001b[39m=\u001b[39m(\u001b[39m2\u001b[39m\u001b[39m*\u001b[39mN))\n\u001b[1;32m     33\u001b[0m Y[:N] \u001b[39m=\u001b[39m \u001b[39m0\u001b[39m\n",
      "\u001b[0;31mValueError\u001b[0m: could not broadcast input array from shape (20000,100,100,3) into shape (100,100,3)"
     ]
    }
   ],
   "source": [
    "WIDTH, HEIGHT = 100, 100\n",
    "X, Y = get_circles_and_rectangles_dataset(width=WIDTH, height=HEIGHT)\n",
    "X.shape\n",
    "2"
   ]
  },
  {
   "cell_type": "code",
   "execution_count": null,
   "metadata": {},
   "outputs": [],
   "source": [
    "circles = X[Y == 0]\n",
    "rectangles = X[Y == 1]"
   ]
  },
  {
   "cell_type": "markdown",
   "metadata": {},
   "source": [
    "# Посмотрим на образцы"
   ]
  },
  {
   "cell_type": "code",
   "execution_count": null,
   "metadata": {},
   "outputs": [],
   "source": []
  },
  {
   "cell_type": "code",
   "execution_count": null,
   "metadata": {
    "ExecuteTime": {
     "end_time": "2019-09-22T03:59:13.732294Z",
     "start_time": "2019-09-22T03:59:12.790543Z"
    },
    "scrolled": true
   },
   "outputs": [
    {
     "ename": "NameError",
     "evalue": "name 'rectangles' is not defined",
     "output_type": "error",
     "traceback": [
      "\u001b[0;31m---------------------------------------------------------------------------\u001b[0m",
      "\u001b[0;31mNameError\u001b[0m                                 Traceback (most recent call last)",
      "Cell \u001b[0;32mIn [10], line 5\u001b[0m\n\u001b[1;32m      3\u001b[0m \u001b[39mfor\u001b[39;00m i \u001b[39min\u001b[39;00m \u001b[39mrange\u001b[39m(\u001b[39m0\u001b[39m, n_lines):\n\u001b[1;32m      4\u001b[0m     plt\u001b[39m.\u001b[39msubplot(n_lines, \u001b[39m2\u001b[39m, i\u001b[39m*\u001b[39m\u001b[39m2\u001b[39m \u001b[39m+\u001b[39m \u001b[39m1\u001b[39m)\n\u001b[0;32m----> 5\u001b[0m     plt\u001b[39m.\u001b[39mimshow(rectangles[random\u001b[39m.\u001b[39mrandint(\u001b[39m0\u001b[39m, \u001b[39mlen\u001b[39m(rectangles) \u001b[39m-\u001b[39m \u001b[39m1\u001b[39m)])\n\u001b[1;32m      7\u001b[0m     plt\u001b[39m.\u001b[39msubplot(n_lines, \u001b[39m2\u001b[39m, i\u001b[39m*\u001b[39m\u001b[39m2\u001b[39m \u001b[39m+\u001b[39m \u001b[39m2\u001b[39m)\n\u001b[1;32m      8\u001b[0m     plt\u001b[39m.\u001b[39mimshow(circles[random\u001b[39m.\u001b[39mrandint(\u001b[39m0\u001b[39m, \u001b[39mlen\u001b[39m(rectangles) \u001b[39m-\u001b[39m \u001b[39m1\u001b[39m)])\n",
      "\u001b[0;31mNameError\u001b[0m: name 'rectangles' is not defined"
     ]
    },
    {
     "data": {
      "image/png": "[encoded data removed]",
      "text/plain": [
       "<Figure size 1000x2000 with 1 Axes>"
      ]
     },
     "metadata": {},
     "output_type": "display_data"
    }
   ],
   "source": [
    "n_lines = 10\n",
    "plt.figure(figsize=(10, 2 * n_lines))\n",
    "for i in range(0, n_lines):\n",
    "    plt.subplot(n_lines, 2, i*2 + 1)\n",
    "    plt.imshow(rectangles[random.randint(0, len(rectangles) - 1)])\n",
    "\n",
    "    plt.subplot(n_lines, 2, i*2 + 2)\n",
    "    plt.imshow(circles[random.randint(0, len(rectangles) - 1)])\n",
    "\n",
    "\n",
    "\n",
    "plt.show()\n"
   ]
  },
  {
   "cell_type": "code",
   "execution_count": null,
   "metadata": {
    "ExecuteTime": {
     "end_time": "2019-09-22T03:59:15.674126Z",
     "start_time": "2019-09-22T03:59:15.223079Z"
    }
   },
   "outputs": [
    {
     "ename": "NameError",
     "evalue": "name 'X' is not defined",
     "output_type": "error",
     "traceback": [
      "\u001b[0;31m---------------------------------------------------------------------------\u001b[0m",
      "\u001b[0;31mNameError\u001b[0m                                 Traceback (most recent call last)",
      "Cell \u001b[0;32mIn [11], line 3\u001b[0m\n\u001b[1;32m      1\u001b[0m \u001b[39mfrom\u001b[39;00m \u001b[39msklearn\u001b[39;00m\u001b[39m.\u001b[39;00m\u001b[39mmodel_selection\u001b[39;00m \u001b[39mimport\u001b[39;00m train_test_split\n\u001b[0;32m----> 3\u001b[0m X_train, X_test, Y_train, Y_test \u001b[39m=\u001b[39m train_test_split(X, Y, test_size\u001b[39m=\u001b[39m\u001b[39m0.2\u001b[39m)\n",
      "\u001b[0;31mNameError\u001b[0m: name 'X' is not defined"
     ]
    }
   ],
   "source": [
    "from sklearn.model_selection import train_test_split\n",
    "\n",
    "X_train, X_test, Y_train, Y_test = train_test_split(X, Y, test_size=0.2)"
   ]
  },
  {
   "cell_type": "markdown",
   "metadata": {},
   "source": [
    "# Сначала попробуем нейронной полносвязной сетью"
   ]
  },
  {
   "cell_type": "code",
   "execution_count": null,
   "metadata": {
    "ExecuteTime": {
     "end_time": "2019-09-22T03:59:16.183308Z",
     "start_time": "2019-09-22T03:59:16.175333Z"
    }
   },
   "outputs": [
    {
     "ename": "NameError",
     "evalue": "name 'X_train' is not defined",
     "output_type": "error",
     "traceback": [
      "\u001b[0;31m---------------------------------------------------------------------------\u001b[0m",
      "\u001b[0;31mNameError\u001b[0m                                 Traceback (most recent call last)",
      "Cell \u001b[0;32mIn [12], line 1\u001b[0m\n\u001b[0;32m----> 1\u001b[0m \u001b[39mprint\u001b[39m(X_train\u001b[39m.\u001b[39mshape)\n",
      "\u001b[0;31mNameError\u001b[0m: name 'X_train' is not defined"
     ]
    }
   ],
   "source": [
    "print(X_train.shape)"
   ]
  },
  {
   "cell_type": "code",
   "execution_count": null,
   "metadata": {
    "ExecuteTime": {
     "end_time": "2019-09-22T03:59:16.502076Z",
     "start_time": "2019-09-22T03:59:16.494493Z"
    },
    "scrolled": true
   },
   "outputs": [],
   "source": [
    "X_train_flat, X_test_flat = X_train.reshape(-1, WIDTH * HEIGHT * 3), X_test.reshape(-1, WIDTH * HEIGHT * 3)\n"
   ]
  },
  {
   "cell_type": "code",
   "execution_count": null,
   "metadata": {},
   "outputs": [],
   "source": [
    "Y_train_flat = Y_train.reshape(-1)\n"
   ]
  },
  {
   "cell_type": "code",
   "execution_count": null,
   "metadata": {},
   "outputs": [
    {
     "data": {
      "text/plain": [
       "(4000, 100, 100, 3)"
      ]
     },
     "execution_count": 31,
     "metadata": {},
     "output_type": "execute_result"
    }
   ],
   "source": [
    "X_test.shape"
   ]
  },
  {
   "cell_type": "code",
   "execution_count": null,
   "metadata": {},
   "outputs": [],
   "source": [
    "\n",
    "Y_test_flat =  Y_test.reshape(-1)"
   ]
  },
  {
   "cell_type": "code",
   "execution_count": null,
   "metadata": {},
   "outputs": [],
   "source": []
  },
  {
   "cell_type": "code",
   "execution_count": null,
   "metadata": {
    "ExecuteTime": {
     "end_time": "2019-09-22T03:59:18.542172Z",
     "start_time": "2019-09-22T03:59:16.704173Z"
    }
   },
   "outputs": [],
   "source": [
    "import keras\n",
    "from keras.models import Sequential\n",
    "from keras import optimizers\n",
    "from keras.layers import Dense\n"
   ]
  },
  {
   "cell_type": "code",
   "execution_count": null,
   "metadata": {
    "ExecuteTime": {
     "end_time": "2019-09-22T03:59:18.729007Z",
     "start_time": "2019-09-22T03:59:18.545361Z"
    }
   },
   "outputs": [],
   "source": [
    "model = Sequential()\n",
    "model.reset_states()\n",
    "model.add(Dense(100,  input_dim=WIDTH * HEIGHT * 3, activation='sigmoid', kernel_initializer='random_normal', bias_initializer='random_normal'))\n",
    "# model.add(Dense(33, activation='sigmoid', kernel_initializer='random_normal', bias_initializer='random_normal'))\n",
    "# model.add(Dense(3, activation='sigmoid', kernel_initializer='random_normal', bias_initializer='random_normal'))\n",
    "# model.add(Dense(3,  activation='sigmoid', kernel_initializer='random_normal', bias_initializer='random_normal'))\n",
    "\n",
    "model.add(Dense(1, activation='sigmoid', kernel_initializer='random_normal', bias_initializer='random_normal'))\n",
    "\n",
    "adam = optimizers.Adam() # Might also be decay=1e-6, momentum=0.9, nesterov=True\n",
    "\n",
    "model.compile(loss='MSE', optimizer=adam, metrics=['accuracy', ])\n",
    "\n",
    "\n",
    "# With crossentropy: \n",
    "#model.compile(loss='categorical_crossentropy', optimizer=sgd, metrics=['accuracy'])"
   ]
  },
  {
   "cell_type": "code",
   "execution_count": null,
   "metadata": {
    "ExecuteTime": {
     "end_time": "2019-09-22T04:02:08.445205Z",
     "start_time": "2019-09-22T03:59:18.732192Z"
    }
   },
   "outputs": [
    {
     "name": "stdout",
     "output_type": "stream",
     "text": [
      "Epoch 1/1000\n"
     ]
    },
    {
     "name": "stderr",
     "output_type": "stream",
     "text": [
      "2023-01-02 08:44:30.758059: I tensorflow/core/grappler/optimizers/custom_graph_optimizer_registry.cc:114] Plugin optimizer for device_type GPU is enabled.\n"
     ]
    },
    {
     "name": "stdout",
     "output_type": "stream",
     "text": [
      "11/11 [==============================] - ETA: 0s - loss: 0.2027 - accuracy: 0.6903"
     ]
    },
    {
     "name": "stderr",
     "output_type": "stream",
     "text": [
      "2023-01-02 08:44:34.114217: I tensorflow/core/grappler/optimizers/custom_graph_optimizer_registry.cc:114] Plugin optimizer for device_type GPU is enabled.\n"
     ]
    },
    {
     "name": "stdout",
     "output_type": "stream",
     "text": [
      "11/11 [==============================] - 4s 298ms/step - loss: 0.2027 - accuracy: 0.6903 - val_loss: 0.1809 - val_accuracy: 0.7360\n",
      "Epoch 2/1000\n",
      "11/11 [==============================] - 1s 134ms/step - loss: 0.1715 - accuracy: 0.7563 - val_loss: 0.1676 - val_accuracy: 0.7598\n",
      "Epoch 3/1000\n",
      "11/11 [==============================] - 1s 128ms/step - loss: 0.1610 - accuracy: 0.7739 - val_loss: 0.1590 - val_accuracy: 0.7793\n",
      "Epoch 4/1000\n",
      "11/11 [==============================] - 1s 136ms/step - loss: 0.1533 - accuracy: 0.7879 - val_loss: 0.1519 - val_accuracy: 0.7958\n",
      "Epoch 5/1000\n",
      "11/11 [==============================] - 1s 133ms/step - loss: 0.1464 - accuracy: 0.8024 - val_loss: 0.1465 - val_accuracy: 0.8065\n",
      "Epoch 6/1000\n",
      "11/11 [==============================] - 1s 131ms/step - loss: 0.1398 - accuracy: 0.8167 - val_loss: 0.1406 - val_accuracy: 0.8135\n",
      "Epoch 7/1000\n",
      "11/11 [==============================] - 1s 131ms/step - loss: 0.1335 - accuracy: 0.8291 - val_loss: 0.1349 - val_accuracy: 0.8283\n",
      "Epoch 8/1000\n",
      "11/11 [==============================] - 1s 126ms/step - loss: 0.1275 - accuracy: 0.8403 - val_loss: 0.1288 - val_accuracy: 0.8335\n",
      "Epoch 9/1000\n",
      "11/11 [==============================] - 1s 130ms/step - loss: 0.1214 - accuracy: 0.8508 - val_loss: 0.1231 - val_accuracy: 0.8445\n",
      "Epoch 10/1000\n",
      "11/11 [==============================] - 1s 128ms/step - loss: 0.1158 - accuracy: 0.8594 - val_loss: 0.1183 - val_accuracy: 0.8560\n",
      "Epoch 11/1000\n",
      "11/11 [==============================] - 1s 126ms/step - loss: 0.1110 - accuracy: 0.8669 - val_loss: 0.1126 - val_accuracy: 0.8623\n",
      "Epoch 12/1000\n",
      "11/11 [==============================] - 1s 127ms/step - loss: 0.1055 - accuracy: 0.8750 - val_loss: 0.1091 - val_accuracy: 0.8640\n",
      "Epoch 13/1000\n",
      "11/11 [==============================] - 1s 132ms/step - loss: 0.1003 - accuracy: 0.8808 - val_loss: 0.1030 - val_accuracy: 0.8773\n",
      "Epoch 14/1000\n",
      "11/11 [==============================] - 1s 127ms/step - loss: 0.0951 - accuracy: 0.8873 - val_loss: 0.0982 - val_accuracy: 0.8875\n",
      "Epoch 15/1000\n",
      "11/11 [==============================] - 1s 124ms/step - loss: 0.0908 - accuracy: 0.8941 - val_loss: 0.0946 - val_accuracy: 0.8903\n",
      "Epoch 16/1000\n",
      "11/11 [==============================] - 1s 131ms/step - loss: 0.0858 - accuracy: 0.9023 - val_loss: 0.0882 - val_accuracy: 0.8995\n",
      "Epoch 17/1000\n",
      "11/11 [==============================] - 1s 133ms/step - loss: 0.0802 - accuracy: 0.9096 - val_loss: 0.0835 - val_accuracy: 0.9083\n",
      "Epoch 18/1000\n",
      "11/11 [==============================] - 1s 123ms/step - loss: 0.0754 - accuracy: 0.9156 - val_loss: 0.0786 - val_accuracy: 0.9158\n",
      "Epoch 19/1000\n",
      "11/11 [==============================] - 1s 132ms/step - loss: 0.0707 - accuracy: 0.9248 - val_loss: 0.0747 - val_accuracy: 0.9240\n",
      "Epoch 20/1000\n",
      "11/11 [==============================] - 1s 133ms/step - loss: 0.0663 - accuracy: 0.9340 - val_loss: 0.0707 - val_accuracy: 0.9280\n",
      "Epoch 21/1000\n",
      "11/11 [==============================] - 1s 130ms/step - loss: 0.0621 - accuracy: 0.9411 - val_loss: 0.0675 - val_accuracy: 0.9293\n",
      "Epoch 22/1000\n",
      "11/11 [==============================] - 1s 121ms/step - loss: 0.0591 - accuracy: 0.9444 - val_loss: 0.0640 - val_accuracy: 0.9368\n",
      "Epoch 23/1000\n",
      "11/11 [==============================] - 1s 128ms/step - loss: 0.0549 - accuracy: 0.9497 - val_loss: 0.0602 - val_accuracy: 0.9435\n",
      "Epoch 24/1000\n",
      "11/11 [==============================] - 1s 121ms/step - loss: 0.0516 - accuracy: 0.9557 - val_loss: 0.0569 - val_accuracy: 0.9503\n",
      "Epoch 25/1000\n",
      "11/11 [==============================] - 1s 120ms/step - loss: 0.0482 - accuracy: 0.9590 - val_loss: 0.0538 - val_accuracy: 0.9525\n",
      "Epoch 26/1000\n",
      "11/11 [==============================] - 1s 124ms/step - loss: 0.0450 - accuracy: 0.9629 - val_loss: 0.0508 - val_accuracy: 0.9565\n",
      "Epoch 27/1000\n",
      "11/11 [==============================] - 1s 121ms/step - loss: 0.0422 - accuracy: 0.9656 - val_loss: 0.0494 - val_accuracy: 0.9578\n",
      "Epoch 28/1000\n",
      "11/11 [==============================] - 1s 120ms/step - loss: 0.0406 - accuracy: 0.9683 - val_loss: 0.0480 - val_accuracy: 0.9588\n",
      "Epoch 29/1000\n",
      "11/11 [==============================] - 1s 123ms/step - loss: 0.0392 - accuracy: 0.9699 - val_loss: 0.0464 - val_accuracy: 0.9615\n",
      "Epoch 30/1000\n",
      "11/11 [==============================] - 1s 134ms/step - loss: 0.0374 - accuracy: 0.9711 - val_loss: 0.0445 - val_accuracy: 0.9643\n",
      "Epoch 31/1000\n",
      "11/11 [==============================] - 1s 123ms/step - loss: 0.0347 - accuracy: 0.9741 - val_loss: 0.0421 - val_accuracy: 0.9645\n",
      "Epoch 32/1000\n",
      "11/11 [==============================] - 1s 121ms/step - loss: 0.0324 - accuracy: 0.9753 - val_loss: 0.0413 - val_accuracy: 0.9653\n",
      "Epoch 33/1000\n",
      " 1/11 [=>............................] - ETA: 0s - loss: 0.0319 - accuracy: 0.9753"
     ]
    },
    {
     "ename": "KeyboardInterrupt",
     "evalue": "",
     "output_type": "error",
     "traceback": [
      "\u001b[0;31m---------------------------------------------------------------------------\u001b[0m",
      "\u001b[0;31mKeyboardInterrupt\u001b[0m                         Traceback (most recent call last)",
      "Cell \u001b[0;32mIn [35], line 4\u001b[0m\n\u001b[1;32m      1\u001b[0m start_time \u001b[39m=\u001b[39m time\u001b[39m.\u001b[39mtime()\n\u001b[1;32m      3\u001b[0m adam \u001b[39m=\u001b[39m optimizers\u001b[39m.\u001b[39mAdam(\u001b[39m0.0001\u001b[39m) \u001b[39m# Might also be decay=1e-6, momentum=0.9, nesterov=True\u001b[39;00m\n\u001b[0;32m----> 4\u001b[0m model\u001b[39m.\u001b[39;49mfit(X_train_flat, Y_train, batch_size\u001b[39m=\u001b[39;49m\u001b[39m1500\u001b[39;49m, epochs\u001b[39m=\u001b[39;49m\u001b[39m1000\u001b[39;49m, verbose\u001b[39m=\u001b[39;49m\u001b[39m1\u001b[39;49m,validation_data\u001b[39m=\u001b[39;49m[X_test_flat, Y_test])\n\u001b[1;32m      5\u001b[0m \u001b[39mprint\u001b[39m(\u001b[39mf\u001b[39m\u001b[39m\"\u001b[39m\u001b[39mIt took \u001b[39m\u001b[39m{\u001b[39;00mtime\u001b[39m.\u001b[39mtime() \u001b[39m-\u001b[39m start_time\u001b[39m}\u001b[39;00m\u001b[39m sec\u001b[39m\u001b[39m\"\u001b[39m)\n",
      "File \u001b[0;32m/Library/Frameworks/Python.framework/Versions/3.10/lib/python3.10/site-packages/keras/utils/traceback_utils.py:65\u001b[0m, in \u001b[0;36mfilter_traceback.<locals>.error_handler\u001b[0;34m(*args, **kwargs)\u001b[0m\n\u001b[1;32m     63\u001b[0m filtered_tb \u001b[39m=\u001b[39m \u001b[39mNone\u001b[39;00m\n\u001b[1;32m     64\u001b[0m \u001b[39mtry\u001b[39;00m:\n\u001b[0;32m---> 65\u001b[0m     \u001b[39mreturn\u001b[39;00m fn(\u001b[39m*\u001b[39;49margs, \u001b[39m*\u001b[39;49m\u001b[39m*\u001b[39;49mkwargs)\n\u001b[1;32m     66\u001b[0m \u001b[39mexcept\u001b[39;00m \u001b[39mException\u001b[39;00m \u001b[39mas\u001b[39;00m e:\n\u001b[1;32m     67\u001b[0m     filtered_tb \u001b[39m=\u001b[39m _process_traceback_frames(e\u001b[39m.\u001b[39m__traceback__)\n",
      "File \u001b[0;32m/Library/Frameworks/Python.framework/Versions/3.10/lib/python3.10/site-packages/keras/engine/training.py:1564\u001b[0m, in \u001b[0;36mModel.fit\u001b[0;34m(self, x, y, batch_size, epochs, verbose, callbacks, validation_split, validation_data, shuffle, class_weight, sample_weight, initial_epoch, steps_per_epoch, validation_steps, validation_batch_size, validation_freq, max_queue_size, workers, use_multiprocessing)\u001b[0m\n\u001b[1;32m   1556\u001b[0m \u001b[39mwith\u001b[39;00m tf\u001b[39m.\u001b[39mprofiler\u001b[39m.\u001b[39mexperimental\u001b[39m.\u001b[39mTrace(\n\u001b[1;32m   1557\u001b[0m     \u001b[39m\"\u001b[39m\u001b[39mtrain\u001b[39m\u001b[39m\"\u001b[39m,\n\u001b[1;32m   1558\u001b[0m     epoch_num\u001b[39m=\u001b[39mepoch,\n\u001b[0;32m   (...)\u001b[0m\n\u001b[1;32m   1561\u001b[0m     _r\u001b[39m=\u001b[39m\u001b[39m1\u001b[39m,\n\u001b[1;32m   1562\u001b[0m ):\n\u001b[1;32m   1563\u001b[0m     callbacks\u001b[39m.\u001b[39mon_train_batch_begin(step)\n\u001b[0;32m-> 1564\u001b[0m     tmp_logs \u001b[39m=\u001b[39m \u001b[39mself\u001b[39;49m\u001b[39m.\u001b[39;49mtrain_function(iterator)\n\u001b[1;32m   1565\u001b[0m     \u001b[39mif\u001b[39;00m data_handler\u001b[39m.\u001b[39mshould_sync:\n\u001b[1;32m   1566\u001b[0m         context\u001b[39m.\u001b[39masync_wait()\n",
      "File \u001b[0;32m/Library/Frameworks/Python.framework/Versions/3.10/lib/python3.10/site-packages/tensorflow/python/util/traceback_utils.py:150\u001b[0m, in \u001b[0;36mfilter_traceback.<locals>.error_handler\u001b[0;34m(*args, **kwargs)\u001b[0m\n\u001b[1;32m    148\u001b[0m filtered_tb \u001b[39m=\u001b[39m \u001b[39mNone\u001b[39;00m\n\u001b[1;32m    149\u001b[0m \u001b[39mtry\u001b[39;00m:\n\u001b[0;32m--> 150\u001b[0m   \u001b[39mreturn\u001b[39;00m fn(\u001b[39m*\u001b[39;49margs, \u001b[39m*\u001b[39;49m\u001b[39m*\u001b[39;49mkwargs)\n\u001b[1;32m    151\u001b[0m \u001b[39mexcept\u001b[39;00m \u001b[39mException\u001b[39;00m \u001b[39mas\u001b[39;00m e:\n\u001b[1;32m    152\u001b[0m   filtered_tb \u001b[39m=\u001b[39m _process_traceback_frames(e\u001b[39m.\u001b[39m__traceback__)\n",
      "File \u001b[0;32m/Library/Frameworks/Python.framework/Versions/3.10/lib/python3.10/site-packages/tensorflow/python/eager/def_function.py:915\u001b[0m, in \u001b[0;36mFunction.__call__\u001b[0;34m(self, *args, **kwds)\u001b[0m\n\u001b[1;32m    912\u001b[0m compiler \u001b[39m=\u001b[39m \u001b[39m\"\u001b[39m\u001b[39mxla\u001b[39m\u001b[39m\"\u001b[39m \u001b[39mif\u001b[39;00m \u001b[39mself\u001b[39m\u001b[39m.\u001b[39m_jit_compile \u001b[39melse\u001b[39;00m \u001b[39m\"\u001b[39m\u001b[39mnonXla\u001b[39m\u001b[39m\"\u001b[39m\n\u001b[1;32m    914\u001b[0m \u001b[39mwith\u001b[39;00m OptionalXlaContext(\u001b[39mself\u001b[39m\u001b[39m.\u001b[39m_jit_compile):\n\u001b[0;32m--> 915\u001b[0m   result \u001b[39m=\u001b[39m \u001b[39mself\u001b[39;49m\u001b[39m.\u001b[39;49m_call(\u001b[39m*\u001b[39;49margs, \u001b[39m*\u001b[39;49m\u001b[39m*\u001b[39;49mkwds)\n\u001b[1;32m    917\u001b[0m new_tracing_count \u001b[39m=\u001b[39m \u001b[39mself\u001b[39m\u001b[39m.\u001b[39mexperimental_get_tracing_count()\n\u001b[1;32m    918\u001b[0m without_tracing \u001b[39m=\u001b[39m (tracing_count \u001b[39m==\u001b[39m new_tracing_count)\n",
      "File \u001b[0;32m/Library/Frameworks/Python.framework/Versions/3.10/lib/python3.10/site-packages/tensorflow/python/eager/def_function.py:947\u001b[0m, in \u001b[0;36mFunction._call\u001b[0;34m(self, *args, **kwds)\u001b[0m\n\u001b[1;32m    944\u001b[0m   \u001b[39mself\u001b[39m\u001b[39m.\u001b[39m_lock\u001b[39m.\u001b[39mrelease()\n\u001b[1;32m    945\u001b[0m   \u001b[39m# In this case we have created variables on the first call, so we run the\u001b[39;00m\n\u001b[1;32m    946\u001b[0m   \u001b[39m# defunned version which is guaranteed to never create variables.\u001b[39;00m\n\u001b[0;32m--> 947\u001b[0m   \u001b[39mreturn\u001b[39;00m \u001b[39mself\u001b[39;49m\u001b[39m.\u001b[39;49m_stateless_fn(\u001b[39m*\u001b[39;49margs, \u001b[39m*\u001b[39;49m\u001b[39m*\u001b[39;49mkwds)  \u001b[39m# pylint: disable=not-callable\u001b[39;00m\n\u001b[1;32m    948\u001b[0m \u001b[39melif\u001b[39;00m \u001b[39mself\u001b[39m\u001b[39m.\u001b[39m_stateful_fn \u001b[39mis\u001b[39;00m \u001b[39mnot\u001b[39;00m \u001b[39mNone\u001b[39;00m:\n\u001b[1;32m    949\u001b[0m   \u001b[39m# Release the lock early so that multiple threads can perform the call\u001b[39;00m\n\u001b[1;32m    950\u001b[0m   \u001b[39m# in parallel.\u001b[39;00m\n\u001b[1;32m    951\u001b[0m   \u001b[39mself\u001b[39m\u001b[39m.\u001b[39m_lock\u001b[39m.\u001b[39mrelease()\n",
      "File \u001b[0;32m/Library/Frameworks/Python.framework/Versions/3.10/lib/python3.10/site-packages/tensorflow/python/eager/function.py:2496\u001b[0m, in \u001b[0;36mFunction.__call__\u001b[0;34m(self, *args, **kwargs)\u001b[0m\n\u001b[1;32m   2493\u001b[0m \u001b[39mwith\u001b[39;00m \u001b[39mself\u001b[39m\u001b[39m.\u001b[39m_lock:\n\u001b[1;32m   2494\u001b[0m   (graph_function,\n\u001b[1;32m   2495\u001b[0m    filtered_flat_args) \u001b[39m=\u001b[39m \u001b[39mself\u001b[39m\u001b[39m.\u001b[39m_maybe_define_function(args, kwargs)\n\u001b[0;32m-> 2496\u001b[0m \u001b[39mreturn\u001b[39;00m graph_function\u001b[39m.\u001b[39;49m_call_flat(\n\u001b[1;32m   2497\u001b[0m     filtered_flat_args, captured_inputs\u001b[39m=\u001b[39;49mgraph_function\u001b[39m.\u001b[39;49mcaptured_inputs)\n",
      "File \u001b[0;32m/Library/Frameworks/Python.framework/Versions/3.10/lib/python3.10/site-packages/tensorflow/python/eager/function.py:1862\u001b[0m, in \u001b[0;36mConcreteFunction._call_flat\u001b[0;34m(self, args, captured_inputs, cancellation_manager)\u001b[0m\n\u001b[1;32m   1858\u001b[0m possible_gradient_type \u001b[39m=\u001b[39m gradients_util\u001b[39m.\u001b[39mPossibleTapeGradientTypes(args)\n\u001b[1;32m   1859\u001b[0m \u001b[39mif\u001b[39;00m (possible_gradient_type \u001b[39m==\u001b[39m gradients_util\u001b[39m.\u001b[39mPOSSIBLE_GRADIENT_TYPES_NONE\n\u001b[1;32m   1860\u001b[0m     \u001b[39mand\u001b[39;00m executing_eagerly):\n\u001b[1;32m   1861\u001b[0m   \u001b[39m# No tape is watching; skip to running the function.\u001b[39;00m\n\u001b[0;32m-> 1862\u001b[0m   \u001b[39mreturn\u001b[39;00m \u001b[39mself\u001b[39m\u001b[39m.\u001b[39m_build_call_outputs(\u001b[39mself\u001b[39;49m\u001b[39m.\u001b[39;49m_inference_function\u001b[39m.\u001b[39;49mcall(\n\u001b[1;32m   1863\u001b[0m       ctx, args, cancellation_manager\u001b[39m=\u001b[39;49mcancellation_manager))\n\u001b[1;32m   1864\u001b[0m forward_backward \u001b[39m=\u001b[39m \u001b[39mself\u001b[39m\u001b[39m.\u001b[39m_select_forward_and_backward_functions(\n\u001b[1;32m   1865\u001b[0m     args,\n\u001b[1;32m   1866\u001b[0m     possible_gradient_type,\n\u001b[1;32m   1867\u001b[0m     executing_eagerly)\n\u001b[1;32m   1868\u001b[0m forward_function, args_with_tangents \u001b[39m=\u001b[39m forward_backward\u001b[39m.\u001b[39mforward()\n",
      "File \u001b[0;32m/Library/Frameworks/Python.framework/Versions/3.10/lib/python3.10/site-packages/tensorflow/python/eager/function.py:499\u001b[0m, in \u001b[0;36m_EagerDefinedFunction.call\u001b[0;34m(self, ctx, args, cancellation_manager)\u001b[0m\n\u001b[1;32m    497\u001b[0m \u001b[39mwith\u001b[39;00m _InterpolateFunctionError(\u001b[39mself\u001b[39m):\n\u001b[1;32m    498\u001b[0m   \u001b[39mif\u001b[39;00m cancellation_manager \u001b[39mis\u001b[39;00m \u001b[39mNone\u001b[39;00m:\n\u001b[0;32m--> 499\u001b[0m     outputs \u001b[39m=\u001b[39m execute\u001b[39m.\u001b[39;49mexecute(\n\u001b[1;32m    500\u001b[0m         \u001b[39mstr\u001b[39;49m(\u001b[39mself\u001b[39;49m\u001b[39m.\u001b[39;49msignature\u001b[39m.\u001b[39;49mname),\n\u001b[1;32m    501\u001b[0m         num_outputs\u001b[39m=\u001b[39;49m\u001b[39mself\u001b[39;49m\u001b[39m.\u001b[39;49m_num_outputs,\n\u001b[1;32m    502\u001b[0m         inputs\u001b[39m=\u001b[39;49margs,\n\u001b[1;32m    503\u001b[0m         attrs\u001b[39m=\u001b[39;49mattrs,\n\u001b[1;32m    504\u001b[0m         ctx\u001b[39m=\u001b[39;49mctx)\n\u001b[1;32m    505\u001b[0m   \u001b[39melse\u001b[39;00m:\n\u001b[1;32m    506\u001b[0m     outputs \u001b[39m=\u001b[39m execute\u001b[39m.\u001b[39mexecute_with_cancellation(\n\u001b[1;32m    507\u001b[0m         \u001b[39mstr\u001b[39m(\u001b[39mself\u001b[39m\u001b[39m.\u001b[39msignature\u001b[39m.\u001b[39mname),\n\u001b[1;32m    508\u001b[0m         num_outputs\u001b[39m=\u001b[39m\u001b[39mself\u001b[39m\u001b[39m.\u001b[39m_num_outputs,\n\u001b[0;32m   (...)\u001b[0m\n\u001b[1;32m    511\u001b[0m         ctx\u001b[39m=\u001b[39mctx,\n\u001b[1;32m    512\u001b[0m         cancellation_manager\u001b[39m=\u001b[39mcancellation_manager)\n",
      "File \u001b[0;32m/Library/Frameworks/Python.framework/Versions/3.10/lib/python3.10/site-packages/tensorflow/python/eager/execute.py:54\u001b[0m, in \u001b[0;36mquick_execute\u001b[0;34m(op_name, num_outputs, inputs, attrs, ctx, name)\u001b[0m\n\u001b[1;32m     52\u001b[0m \u001b[39mtry\u001b[39;00m:\n\u001b[1;32m     53\u001b[0m   ctx\u001b[39m.\u001b[39mensure_initialized()\n\u001b[0;32m---> 54\u001b[0m   tensors \u001b[39m=\u001b[39m pywrap_tfe\u001b[39m.\u001b[39;49mTFE_Py_Execute(ctx\u001b[39m.\u001b[39;49m_handle, device_name, op_name,\n\u001b[1;32m     55\u001b[0m                                       inputs, attrs, num_outputs)\n\u001b[1;32m     56\u001b[0m \u001b[39mexcept\u001b[39;00m core\u001b[39m.\u001b[39m_NotOkStatusException \u001b[39mas\u001b[39;00m e:\n\u001b[1;32m     57\u001b[0m   \u001b[39mif\u001b[39;00m name \u001b[39mis\u001b[39;00m \u001b[39mnot\u001b[39;00m \u001b[39mNone\u001b[39;00m:\n",
      "\u001b[0;31mKeyboardInterrupt\u001b[0m: "
     ]
    }
   ],
   "source": [
    "start_time = time.time()\n",
    "\n",
    "adam = optimizers.Adam(0.0001) # Might also be decay=1e-6, momentum=0.9, nesterov=True\n",
    "model.fit(X_train_flat, Y_train, batch_size=1500, epochs=1000, verbose=1,validation_data=[X_test_flat, Y_test])\n",
    "print(f\"It took {time.time() - start_time} sec\")"
   ]
  },
  {
   "cell_type": "code",
   "execution_count": null,
   "metadata": {
    "ExecuteTime": {
     "end_time": "2019-09-22T04:25:33.789010Z",
     "start_time": "2019-09-22T04:25:33.693372Z"
    },
    "scrolled": true
   },
   "outputs": [
    {
     "name": "stdout",
     "output_type": "stream",
     "text": [
      " 76/125 [=================>............] - ETA: 0s"
     ]
    },
    {
     "name": "stderr",
     "output_type": "stream",
     "text": [
      "2023-01-02 08:21:21.543073: I tensorflow/core/grappler/optimizers/custom_graph_optimizer_registry.cc:114] Plugin optimizer for device_type GPU is enabled.\n"
     ]
    },
    {
     "name": "stdout",
     "output_type": "stream",
     "text": [
      "125/125 [==============================] - 0s 2ms/step\n"
     ]
    },
    {
     "data": {
      "text/plain": [
       "0.7765"
      ]
     },
     "execution_count": 47,
     "metadata": {},
     "output_type": "execute_result"
    }
   ],
   "source": [
    "# Test accuracy\n",
    "y_pred_test = model.predict(X_test_flat)\n",
    "(np.round(y_pred_test).reshape(Y_test.shape) == Y_test).sum() / len(Y_test)"
   ]
  },
  {
   "cell_type": "code",
   "execution_count": null,
   "metadata": {},
   "outputs": [
    {
     "data": {
      "text/plain": [
       "8"
      ]
     },
     "execution_count": 48,
     "metadata": {},
     "output_type": "execute_result"
    }
   ],
   "source": [
    "3+5"
   ]
  },
  {
   "cell_type": "code",
   "execution_count": null,
   "metadata": {},
   "outputs": [],
   "source": []
  },
  {
   "cell_type": "code",
   "execution_count": null,
   "metadata": {},
   "outputs": [],
   "source": []
  },
  {
   "cell_type": "code",
   "execution_count": null,
   "metadata": {},
   "outputs": [
    {
     "data": {
      "text/plain": [
       "2"
      ]
     },
     "execution_count": 19,
     "metadata": {},
     "output_type": "execute_result"
    }
   ],
   "source": [
    "2"
   ]
  },
  {
   "cell_type": "code",
   "execution_count": null,
   "metadata": {},
   "outputs": [],
   "source": []
  },
  {
   "cell_type": "code",
   "execution_count": null,
   "metadata": {},
   "outputs": [],
   "source": []
  },
  {
   "cell_type": "code",
   "execution_count": null,
   "metadata": {},
   "outputs": [],
   "source": []
  },
  {
   "cell_type": "code",
   "execution_count": null,
   "metadata": {},
   "outputs": [],
   "source": []
  },
  {
   "cell_type": "code",
   "execution_count": null,
   "metadata": {},
   "outputs": [],
   "source": []
  },
  {
   "cell_type": "code",
   "execution_count": null,
   "metadata": {},
   "outputs": [],
   "source": []
  },
  {
   "cell_type": "code",
   "execution_count": null,
   "metadata": {},
   "outputs": [],
   "source": []
  },
  {
   "cell_type": "code",
   "execution_count": null,
   "metadata": {},
   "outputs": [
    {
     "data": {
      "text/plain": [
       "2"
      ]
     },
     "execution_count": 20,
     "metadata": {},
     "output_type": "execute_result"
    }
   ],
   "source": [
    "2"
   ]
  },
  {
   "cell_type": "code",
   "execution_count": null,
   "metadata": {},
   "outputs": [],
   "source": []
  }
 ],
 "metadata": {
  "kernelspec": {
   "display_name": "Python 3",
   "language": "python",
   "name": "python3"
  },
  "language_info": {
   "codemirror_mode": {
    "name": "ipython",
    "version": 3
   },
   "file_extension": ".py",
   "mimetype": "text/x-python",
   "name": "python",
   "nbconvert_exporter": "python",
   "pygments_lexer": "ipython3",
   "version": "3.10.3 (v3.10.3:a342a49189, Mar 16 2022, 09:34:18) [Clang 13.0.0 (clang-1300.0.29.30)]"
  },
  "vscode": {
   "interpreter": {
    "hash": "aee8b7b246df8f9039afb4144a1f6fd8d2ca17a180786b69acc140d282b71a49"
   }
  }
 },
 "nbformat": 4,
 "nbformat_minor": 2
}
